{
 "cells": [
  {
   "cell_type": "markdown",
   "id": "f203e860",
   "metadata": {},
   "source": [
    "<img src='figures/iaeaheader.svg' style='width:100%'/>\n",
    "<p style=\"font-size:2em;padding-bottom: 0.5em; font-weight: bold;\">\n",
    "<em>E-learning course on <br / ><br / >\n",
    "Advanced Neutron Imaging</em>\n",
    "</p> \n",
    "\n",
    "# Quantifying capillary rise using neutron radiography\n",
    "Anders Kaestner, Laboratory for Neutron Scattering and Imaging, Paul Scherrer Institut, 2023\n",
    "\n",
    "<img src='figures/by-nc-nd.svg' style='height:30px'/>"
   ]
  },
  {
   "cell_type": "markdown",
   "id": "590e632f",
   "metadata": {
    "ExecuteTime": {
     "end_time": "2023-05-30T08:36:09.224970Z",
     "start_time": "2023-05-30T08:36:09.220426Z"
    }
   },
   "source": [
    "## Introduction\n",
    "Neutron imaging is used for many porous media experiments due to the great capacity of detecting small amounts of water in the solid matrix. In this tutorial we will look into the concept of [capillary rise in a porous sample](https://en.wikipedia.org/wiki/Capillary_action). This is when the sample suck up water into the sample by means of the capillary forces. The process can easily be observed using a time series of neutron radiographs. In the simple case with homogeneous samples this could also be observed by looking at the sample, but more complicated and heterogeneous samples require imaging for the full understanding. \n",
    "\n",
    "In [Cramer et al. 2023](https://doi.org/10.1002/vzj2.20215) the concept of capillary rise was used to study the water repellency caused by micro plastics.\n"
   ]
  },
  {
   "cell_type": "markdown",
   "id": "e45d6966",
   "metadata": {},
   "source": [
    "## Tutorial objectives\n",
    "\n",
    "- Planning a real time imaging experiment.\n",
    "    - Finding pixel size and exposure time.\n",
    "- Detecting the position of a water front in a time series.\n",
    "    - Performing a capillary rise experiment (video demonstrations).\n",
    "    - Reduction"
   ]
  },
  {
   "cell_type": "markdown",
   "id": "c526ad38",
   "metadata": {},
   "source": [
    "### Loading some needed packages"
   ]
  },
  {
   "cell_type": "code",
   "execution_count": 3,
   "id": "fb3a75bd",
   "metadata": {},
   "outputs": [],
   "source": [
    "import numpy as np\n",
    "import matplotlib.pyplot as plt\n",
    "import tifffile as tiff\n",
    "import sys\n",
    "\n",
    "if \"google.colab\" in sys.modules:\n",
    "    # Running on colab we need to download repos from github\n",
    "    !git clone https://github.com/ImagingELearning/QuantifyingNeutronImages.git\n",
    "    !git clone https://github.com/neutronimaging/scripts.git\n",
    "    data_path=\"/content/QuantifyingNeutronImages/data/\"\n",
    "    sys.path.append(\"/content/scripts/python\")\n",
    "else: \n",
    "    # Running locally on your computer\n",
    "    sys.path.append(\"../00_Common\")\n",
    "    data_path = \"../data/\"\n",
    "\n",
    "import amglib.bb as bb"
   ]
  },
  {
   "cell_type": "markdown",
   "id": "7dc956fe",
   "metadata": {},
   "source": [
    "## Estimating the pore size using capillary rise and Washborn's equation\n",
    "From [Wikipedia](https://en.wikipedia.org/wiki/Washburn%27s_equation):\n",
    ">In physics, Washburn's equation describes capillary flow in a bundle of parallel cylindrical tubes; it is extended with some issues also to imbibition into porous materials. \n",
    "A liquid having a dynamic viscosity $\\eta$ and surface tension \n",
    "$\\gamma$ will penetrate a distance $L$ into the capillary whose pore radius is $r$ following the relationship:\n",
    ">$$L={\\sqrt {\\frac {\\gamma rt\\cos(\\phi )}{2\\eta }}}$$\n",
    ">Where $\\phi$  is the contact angle between the penetrating liquid and the solid (tube wall).\n",
    "\n",
    "<img src=\"figures/rising-damp.jpg\" style=\"height:300px\" />\n",
    "\n",
    "In this experiment, we will observe a water front rising in a sand packing using a time-series of neutron radiographs. "
   ]
  },
  {
   "cell_type": "markdown",
   "id": "a3382879",
   "metadata": {},
   "source": [
    "### Video - Sample preparation\n",
    "\n",
    "<video controls src=\"movies/CapillaryRisePreparation.mp4\" height=\"300px\" type=\"video/mp4\"></video>\n",
    "\n",
    "[On youtube](https://youtu.be/psSRvRROmCo)\n",
    "\n",
    "### Video - Experiment on the desk\n",
    "\n",
    "<video controls src=\"movies/CapillaryRiseExperiment.mp4\" height=\"300px\" type=\"video/mp4\"></video>\n",
    "\n",
    "[On youtube](https://youtu.be/dZdu9-lYaNE)"
   ]
  },
  {
   "cell_type": "markdown",
   "id": "65e087e4",
   "metadata": {},
   "source": [
    "### Image acquisition\n",
    "Load data from the experiments. Here will load a series of images and their time stamps."
   ]
  },
  {
   "cell_type": "code",
   "execution_count": null,
   "id": "5d9f740b",
   "metadata": {},
   "outputs": [],
   "source": [
    "img  = tiff.imread(data_path+'timeseries/sample3_images.tif')\n",
    "time = np.data = np.genfromtxt(data_path+'timeseries/sample3_timestamps.csv', delimiter=',', skip_header = 0)\n",
    "pixelSize=0.088 # mm"
   ]
  },
  {
   "cell_type": "markdown",
   "id": "41dd7908",
   "metadata": {},
   "source": [
    "### Data reduction\n",
    "The data in this exercise doesn't have the reference images we used before (ob and dc). The reason is that the source unfortunately stopped before these images could be obtained. Missing this data is not devastating for the task at hand, but would be needed if we would like to quantify the amount of water behind the water front. \n",
    "\n",
    "One operation you can test is to divide all images in the series by the first image. This would increase the contrast of the front and remove any other structures in the images."
   ]
  },
  {
   "cell_type": "code",
   "execution_count": null,
   "id": "4e67b7d3",
   "metadata": {},
   "outputs": [],
   "source": [
    "# Your code if you want to normalize the series\n"
   ]
  },
  {
   "cell_type": "markdown",
   "id": "306b995a",
   "metadata": {},
   "source": [
    "A further operation that could be considered is to remove possible outliers (spots) in the data. Here, it would be sufficient to apply a median filter."
   ]
  },
  {
   "cell_type": "code",
   "execution_count": null,
   "id": "21e505f8",
   "metadata": {},
   "outputs": [],
   "source": [
    "# Apply a median filter\n",
    "from skimage.filters import median\n"
   ]
  },
  {
   "cell_type": "markdown",
   "id": "786e58ba",
   "metadata": {},
   "source": [
    "### Extracting the front profile\n",
    "\n",
    "The data you obtained from the experiment consists of series of radiographs. When these are stacked you will get a 3D volume with the axes x,y, and time. With this stucture of the data it is possible to extract y-t slices. Like in the example below.\n",
    "\n",
    "<img src='figures/yt-slicing.svg' style=\"height:400px\" />\n",
    "\n",
    "The figure shows that depending on which direction you slice the data you'll see different details of the observed process. Looking at the mid panel you can clearly see how the water front is moving up. A single yt-slice may be too noisy for the following analysis. Therefore, it makes sense to select an interval which is averaged into the yt slice you see here. The left panel shows that the water surface not yet touch the bottom of the sand, while the panel to the right is in the middle of the process. "
   ]
  },
  {
   "cell_type": "code",
   "execution_count": null,
   "id": "d552fecd",
   "metadata": {},
   "outputs": [],
   "source": [
    "# Your code: get the yt slice\n"
   ]
  },
  {
   "cell_type": "markdown",
   "id": "bbed1fef",
   "metadata": {},
   "source": [
    "Once we have the yt-slice, we want to detect the water front in the image and measure where it is located. This segmentation and detection is done in several steps:\n",
    "1. Find a threshold level. The value is found using a histogram e.g. ```_=plt.hist(data.ravel(),bins=100);```. The ravel operation is essential otherwise you'll get a histogram for each row in the image."
   ]
  },
  {
   "cell_type": "code",
   "execution_count": null,
   "id": "f94659d7",
   "metadata": {},
   "outputs": [],
   "source": [
    "# Your code\n"
   ]
  },
  {
   "cell_type": "markdown",
   "id": "670b7665",
   "metadata": {},
   "source": [
    "2. Make a bi-level image when you found the threshold value"
   ]
  },
  {
   "cell_type": "code",
   "execution_count": null,
   "id": "2a7a57f7",
   "metadata": {},
   "outputs": [],
   "source": [
    "# your code\n",
    "threshold = 0 # adjust the threshold to obtain a bi level image showing the rising water front.\n",
    "bi_yt = yt<threshold\n",
    "plt.imshow(bi_yt)"
   ]
  },
  {
   "cell_type": "markdown",
   "id": "447767d7",
   "metadata": {},
   "source": [
    "3. Find the height position of the front as fnction of time. Here, the ```np.argmax(data,axis)``` is very helpful. Be careful to check that you subtract the correct bias and that the level is actuall rising."
   ]
  },
  {
   "cell_type": "code",
   "execution_count": null,
   "id": "1c5fc473",
   "metadata": {},
   "outputs": [],
   "source": [
    "# Your code\n"
   ]
  },
  {
   "cell_type": "markdown",
   "id": "7a0ba9ca",
   "metadata": {},
   "source": [
    "4. Scale the height by the pixel size and plot the height as function of time. The time data was already loaded as ```time```."
   ]
  },
  {
   "cell_type": "code",
   "execution_count": null,
   "id": "837b4bba",
   "metadata": {},
   "outputs": [],
   "source": [
    "# Your code\n"
   ]
  },
  {
   "cell_type": "markdown",
   "id": "c0909d4a",
   "metadata": {},
   "source": [
    "### Fitting data to Washborn's equation\n",
    "\n",
    "Here is a [tutorial](https://nbviewer.org/github/neutronimaging/coding-recipes/blob/main/python/CurveFitting.ipynb) how to fit a function to a data set.\n",
    "\n",
    "The first step is to define a fitting function. This is best simplified to \n",
    "$$L=\\sqrt{t\\cdot{}k}$$"
   ]
  },
  {
   "cell_type": "code",
   "execution_count": null,
   "id": "69e9252a",
   "metadata": {},
   "outputs": [],
   "source": [
    "from scipy.optimize import curve_fit\n",
    "# Your code\n"
   ]
  },
  {
   "cell_type": "markdown",
   "id": "95022562",
   "metadata": {},
   "source": [
    "Now you are ready to fit your data. Make sure that you crop the time series to only match the active part. "
   ]
  },
  {
   "cell_type": "code",
   "execution_count": null,
   "id": "393a783e",
   "metadata": {},
   "outputs": [],
   "source": [
    "# Your code\n"
   ]
  },
  {
   "cell_type": "markdown",
   "id": "8f3e291a",
   "metadata": {},
   "source": [
    "Plot the fitted data and check how well it fits the measured curve."
   ]
  },
  {
   "cell_type": "code",
   "execution_count": null,
   "id": "3e5af5d2",
   "metadata": {},
   "outputs": [],
   "source": [
    "# Your code\n"
   ]
  },
  {
   "cell_type": "markdown",
   "id": "f1d6ff63",
   "metadata": {},
   "source": [
    "Now we have a fitted constant and can find the average pore size of the sand packing. To do this, we need some constants to complete Washborn's equation.\n",
    "\n",
    "|Constant| Symbol | value |\n",
    "|---|---|---|\n",
    "| Surcafe tension |$\\gamma$ |72 × 10−3N/m |\n",
    "| Dynamic viscosity |$\\eta$ | 8.9 × 10−4Ps |\n",
    "|Wetting angle | $\\phi$| 50$^{\\circ}$ |\n",
    "\n",
    "Rearrange the equation and calculate the pore radius."
   ]
  },
  {
   "cell_type": "code",
   "execution_count": null,
   "id": "6f53eea5",
   "metadata": {},
   "outputs": [],
   "source": [
    "# your code.\n"
   ]
  },
  {
   "cell_type": "markdown",
   "id": "396c9f19",
   "metadata": {},
   "source": [
    "## Summary"
   ]
  },
  {
   "cell_type": "markdown",
   "id": "19eccf92",
   "metadata": {},
   "source": [
    "In this tutorial, we learned how quantify information from neutron images.\n",
    "\n",
    "1. We measured the attenuation coefficient of water and saw the impact of scattered neutrons. The attenuation coefficient is used to measure the amount of water in a sample based on varaiations in gray levels. It is therefore important to know this constant very precisely.\n",
    "\n",
    "2. In the second experiment we tracked the position of the water front in a sample to measure the average pore radius in a sand packing.\n",
    "\n",
    "In addition to learning more about these main objectives, we also learned how to use different python packages to solve the analysis tasks in a repeatable way and also how to present the results in plots and image displays."
   ]
  }
 ],
 "metadata": {
  "kernelspec": {
   "display_name": "Python 3 (ipykernel)",
   "language": "python",
   "name": "python3"
  },
  "language_info": {
   "codemirror_mode": {
    "name": "ipython",
    "version": 3
   },
   "file_extension": ".py",
   "mimetype": "text/x-python",
   "name": "python",
   "nbconvert_exporter": "python",
   "pygments_lexer": "ipython3",
   "version": "3.9.13"
  }
 },
 "nbformat": 4,
 "nbformat_minor": 5
}
